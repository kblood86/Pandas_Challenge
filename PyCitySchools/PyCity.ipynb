{
 "cells": [
  {
   "cell_type": "code",
   "execution_count": null,
   "metadata": {},
   "outputs": [],
   "source": [
    "# Dependencies and Setup\n",
    "import pandas as pd"
   ]
  },
  {
   "cell_type": "code",
   "execution_count": null,
   "metadata": {},
   "outputs": [],
   "source": [
    "# File to Load (Remember to Change These)\n",
    "school_data_to_load = \"Resources/schools_complete.csv\"\n",
    "student_data_to_load = \"Resources/students_complete.csv\""
   ]
  },
  {
   "cell_type": "code",
   "execution_count": null,
   "metadata": {},
   "outputs": [],
   "source": [
    "# Read School and Student Data File and store into Pandas DataFrames\n",
    "school_data = pd.read_csv(school_data_to_load)\n",
    "student_data = pd.read_csv(student_data_to_load)\n",
    "\n",
    "#school_data"
   ]
  },
  {
   "cell_type": "code",
   "execution_count": null,
   "metadata": {},
   "outputs": [],
   "source": [
    "# Combine the data into a single dataset.  \n",
    "school_data_complete = pd.merge(student_data, school_data, how=\"left\", on=[\"school_name\", \"school_name\"])\n",
    "#school_data_complete.head(15)"
   ]
  },
  {
   "cell_type": "code",
   "execution_count": null,
   "metadata": {},
   "outputs": [],
   "source": [
    "#look at data types\n",
    "#school_data_complete.dtypes"
   ]
  },
  {
   "cell_type": "code",
   "execution_count": null,
   "metadata": {},
   "outputs": [],
   "source": [
    "#Ensure no data is missing\n",
    "#school_data_complete.count()"
   ]
  },
  {
   "cell_type": "code",
   "execution_count": null,
   "metadata": {},
   "outputs": [],
   "source": [
    "#find total number of schools using merged dataframe\n",
    "total_schools = len(school_data_complete[\"school_name\"].unique())\n",
    "#total_schools "
   ]
  },
  {
   "cell_type": "code",
   "execution_count": null,
   "metadata": {},
   "outputs": [],
   "source": [
    "#find total number of students using merged dataframe\n",
    "total_students = school_data_complete[\"Student ID\"].count()\n",
    "#total_students"
   ]
  },
  {
   "cell_type": "code",
   "execution_count": null,
   "metadata": {},
   "outputs": [],
   "source": [
    "#find total budget using school dataframe\n",
    "total_budget = school_data[\"budget\"].sum()\n",
    "#total_budget"
   ]
  },
  {
   "cell_type": "code",
   "execution_count": null,
   "metadata": {},
   "outputs": [],
   "source": [
    "#find average math score\n",
    "avg_math = school_data_complete[\"math_score\"].mean()\n",
    "#avg_math"
   ]
  },
  {
   "cell_type": "code",
   "execution_count": null,
   "metadata": {},
   "outputs": [],
   "source": [
    "#find average reading score\n",
    "avg_reading = school_data_complete[\"reading_score\"].mean()\n",
    "#avg_reading "
   ]
  },
  {
   "cell_type": "code",
   "execution_count": null,
   "metadata": {},
   "outputs": [],
   "source": [
    "#Percent passing math\n",
    "count_math = school_data_complete[(school_data_complete[\"math_score\"]>=70)].count()[\"Student ID\"]\n",
    "percent_math = count_math / total_students\n",
    "#percent_math"
   ]
  },
  {
   "cell_type": "code",
   "execution_count": null,
   "metadata": {},
   "outputs": [],
   "source": [
    "#Percent passing reading\n",
    "count_reading = school_data_complete[(school_data_complete[\"reading_score\"]>=70)].count()[\"Student ID\"]\n",
    "percent_reading = count_reading/total_students\n",
    "#percent_reading"
   ]
  },
  {
   "cell_type": "code",
   "execution_count": null,
   "metadata": {},
   "outputs": [],
   "source": [
    "#Find overall number of students passing math AND reading\n",
    "overall_count = school_data_complete[(school_data_complete[\"reading_score\"]>=70) & (school_data_complete[\"math_score\"]>=70)].count()[\"Student ID\"]\n",
    "overall_percent = overall_count/total_students\n",
    "#overall_percent"
   ]
  },
  {
   "cell_type": "markdown",
   "metadata": {},
   "source": [
    "## Summary of the Entire School District\n",
    "\n",
    "* Total number of schools\n",
    "* Total number of students\n",
    "* Total budget\n",
    "* Average math score \n",
    "* Average reading score\n",
    "* Percentage of students with a passing math score\n",
    "* Percentage of students with a passing reading score\n",
    "* Percentage of students with both passing scores in reading and math\n",
    "\n",
    "* (Passing is regarded as 70 and above)"
   ]
  },
  {
   "cell_type": "code",
   "execution_count": null,
   "metadata": {},
   "outputs": [],
   "source": [
    "#Create dataframe to display all summary variables\n",
    "district_summary_df = pd.DataFrame ({\n",
    "    \"Total Schools\": [total_schools],\n",
    "    \"Total Students\": [total_students],\n",
    "    \"Total Budget\": [total_budget],\n",
    "    \"Average Math Score\": [avg_math],\n",
    "    \"Average Reading Score\": [avg_reading],\n",
    "    \"Percent Passing Math\": [percent_math],\n",
    "    \"Percent Passing Reading\": [percent_reading],\n",
    "    \"Overall Passing Rate\": [overall_percent]\n",
    "    \n",
    "    \n",
    "})\n",
    "#district_summary_df"
   ]
  },
  {
   "cell_type": "code",
   "execution_count": null,
   "metadata": {},
   "outputs": [],
   "source": [
    "#clean data and format\n",
    "district_summary_df[\"Total Students\"] = district_summary_df[\"Total Students\"].map(\"{:,}\".format)\n",
    "district_summary_df[\"Total Budget\"] = district_summary_df[\"Total Budget\"].map(\"${:,.0f}\".format)\n",
    "district_summary_df[\"Percent Passing Math\"] = district_summary_df[\"Percent Passing Math\"].map(\"{:.2%}\".format)\n",
    "district_summary_df[\"Percent Passing Reading\"] = district_summary_df[\"Percent Passing Reading\"].map(\"{:.2%}\".format)\n",
    "district_summary_df[\"Overall Passing Rate\"] = district_summary_df[\"Overall Passing Rate\"].map(\"{:.2%}\".format)\n",
    "\n",
    "district_summary_df"
   ]
  },
  {
   "cell_type": "markdown",
   "metadata": {},
   "source": [
    "## Summary of the Each School in the  District\n",
    "\n",
    "  * School Name\n",
    "  * School Type\n",
    "  * Total Students\n",
    "  * Total School Budget\n",
    "  * Per Student Budget\n",
    "  * Average Math Score\n",
    "  * Average Reading Score\n",
    "  * Percentage Passing Math\n",
    "  * Percentage Passing Reading\n",
    "  * Percent Overall Passing\n",
    "  \n",
    "  * (Passing is regarded as 70 and above)\n",
    " "
   ]
  },
  {
   "cell_type": "code",
   "execution_count": null,
   "metadata": {
    "jupyter": {
     "source_hidden": true
    }
   },
   "outputs": [],
   "source": [
    "#Find school type from school_data \n",
    "school_types =school_data.set_index(\"school_name\")['type']\n",
    "#school_types"
   ]
  },
  {
   "cell_type": "code",
   "execution_count": null,
   "metadata": {},
   "outputs": [],
   "source": [
    "#total students in each school\n",
    "school_student_count = school_data_complete['school_name'].value_counts()\n",
    "#school_student_count"
   ]
  },
  {
   "cell_type": "code",
   "execution_count": null,
   "metadata": {},
   "outputs": [],
   "source": [
    "#school budget for each school\n",
    "school_budget_count = school_data_complete.groupby([\"school_name\"]).mean()['budget']\n",
    "#school_budget_count"
   ]
  },
  {
   "cell_type": "code",
   "execution_count": null,
   "metadata": {},
   "outputs": [],
   "source": [
    "#budget per student\n",
    "school_per_student_budget = school_budget_count / school_student_count\n",
    "#school_per_student_budget"
   ]
  },
  {
   "cell_type": "code",
   "execution_count": null,
   "metadata": {},
   "outputs": [],
   "source": [
    "#Average math score\n",
    "school_avg_math = school_data_complete.groupby('school_name').mean()['math_score']\n",
    "#school_avg_math"
   ]
  },
  {
   "cell_type": "code",
   "execution_count": null,
   "metadata": {},
   "outputs": [],
   "source": [
    "#Average Reading score per school\n",
    "school_avg_reading = school_data_complete.groupby('school_name').mean()['reading_score']\n",
    "#school_avg_reading"
   ]
  },
  {
   "cell_type": "code",
   "execution_count": null,
   "metadata": {},
   "outputs": [],
   "source": [
    "#percent of students passing math per school\n",
    "school_passing_math = school_data_complete[(school_data_complete['math_score']>=70)]\n",
    "school_passing_math_count = school_passing_math.groupby(['school_name']).count()['Student ID']\n",
    "school_passing_math_percent = (school_passing_math_count / school_student_count*100)\n",
    "#school_passing_math_percent"
   ]
  },
  {
   "cell_type": "code",
   "execution_count": null,
   "metadata": {},
   "outputs": [],
   "source": [
    "#percent of students passing reading per school\n",
    "school_passing_reading = school_data_complete[(school_data_complete['reading_score']>=70)]\n",
    "school_passing_reading_count = school_passing_reading.groupby(['school_name']).count()['Student ID']\n",
    "school_passing_reading_percent = (school_passing_reading_count / school_student_count*100)\n",
    "#school_passing_reading_percent"
   ]
  },
  {
   "cell_type": "code",
   "execution_count": null,
   "metadata": {},
   "outputs": [],
   "source": [
    "#percent of students passing math per school\n",
    "school_passing_overall = school_data_complete[(school_data_complete['math_score']>=70) & (school_data_complete['reading_score']>=70)]\n",
    "school_passing_overall_count = school_passing_overall.groupby(['school_name']).count()['Student ID']\n",
    "school_passing_overall_percent = (school_passing_overall_count / school_student_count*100)\n",
    "#school_passing_overall_percent"
   ]
  },
  {
   "cell_type": "code",
   "execution_count": null,
   "metadata": {},
   "outputs": [],
   "source": [
    "#create data frame with school summary data\n",
    "school_summary_df = pd.DataFrame ({\n",
    "    \"School Type\": school_types,\n",
    "    \"Total Students\": school_student_count,\n",
    "    \"Total School Budget\": school_budget_count,\n",
    "    \"Budget per Student\": school_per_student_budget,\n",
    "    \"Average Math Score\": school_avg_math,\n",
    "    \"Average Reading Score\": school_avg_reading,\n",
    "    \"Percent Passing Math\": school_passing_math_percent,\n",
    "    \"Percent Passing Reading\": school_passing_reading_percent,\n",
    "    \"Overall Percent Passing\": school_passing_overall_percent\n",
    "    \n",
    "    \n",
    "})\n"
   ]
  },
  {
   "cell_type": "code",
   "execution_count": null,
   "metadata": {},
   "outputs": [],
   "source": [
    "#Display table\n",
    "school_summary_df"
   ]
  },
  {
   "cell_type": "markdown",
   "metadata": {},
   "source": [
    "## Top Performing Schools (By Percent Overall Passing)"
   ]
  },
  {
   "cell_type": "code",
   "execution_count": null,
   "metadata": {
    "scrolled": true
   },
   "outputs": [],
   "source": [
    "#sort school summary datafram by overall percent passing and return top 5\n",
    "sorted_summary = school_summary_df.sort_values('Overall Percent Passing')\n",
    "sorted_summary.head(5)\n"
   ]
  },
  {
   "cell_type": "markdown",
   "metadata": {},
   "source": [
    "## Bottom Performing Schools (By Percent Overall Passing)"
   ]
  },
  {
   "cell_type": "code",
   "execution_count": null,
   "metadata": {},
   "outputs": [],
   "source": [
    "#use sorted data and return bottom 5\n",
    "sorted_summary.tail(5)"
   ]
  },
  {
   "cell_type": "markdown",
   "metadata": {},
   "source": [
    "## Math Scores by Grade"
   ]
  },
  {
   "cell_type": "markdown",
   "metadata": {},
   "source": [
    "* Average Math Score for students of each grade level (9th, 10th, 11th, 12th) at each school.\n",
    "\n"
   ]
  },
  {
   "cell_type": "code",
   "execution_count": null,
   "metadata": {},
   "outputs": [],
   "source": [
    "#find average math score for 9th graders by school\n",
    "ninth_math = school_data_complete[(school_data_complete['grade']=='9th')]\n",
    "ninth_math_average = ninth_math.groupby(['school_name']).mean()['math_score']\n",
    "#ninth_math_average"
   ]
  },
  {
   "cell_type": "code",
   "execution_count": null,
   "metadata": {},
   "outputs": [],
   "source": [
    "#find average math score for 10th graders by school\n",
    "tenth_math = school_data_complete[(school_data_complete['grade']=='10th')]\n",
    "tenth_math_average = tenth_math.groupby(['school_name']).mean()['math_score']\n",
    "#tenth_math_average"
   ]
  },
  {
   "cell_type": "code",
   "execution_count": null,
   "metadata": {},
   "outputs": [],
   "source": [
    "#find average math score for 11th graders by school\n",
    "eleventh_math = school_data_complete[(school_data_complete['grade']=='11th')]\n",
    "eleventh_math_average = eleventh_math.groupby(['school_name']).mean()['math_score']\n",
    "#eleventh_math_average"
   ]
  },
  {
   "cell_type": "code",
   "execution_count": null,
   "metadata": {},
   "outputs": [],
   "source": [
    "#find average math score for 12th graders by school\n",
    "twelfth_math = school_data_complete[(school_data_complete['grade']=='12th')]\n",
    "twelfth_math_average = twelfth_math.groupby(['school_name']).mean()['math_score']\n",
    "#twelfth_math_average"
   ]
  },
  {
   "cell_type": "code",
   "execution_count": null,
   "metadata": {},
   "outputs": [],
   "source": [
    "#create data frame for math average by grade and school\n",
    "math_grade_df = pd.DataFrame ({\n",
    "    \"9th\": ninth_math_average,\n",
    "    \"10th\": tenth_math_average,\n",
    "    \"11th\": eleventh_math_average,\n",
    "    \"12th\": twelfth_math_average\n",
    "    \n",
    "    \n",
    "})\n",
    "math_grade_df"
   ]
  },
  {
   "cell_type": "markdown",
   "metadata": {},
   "source": [
    "## Reading Score by Grade "
   ]
  },
  {
   "cell_type": "markdown",
   "metadata": {},
   "source": [
    "* Average Reading Score for students of each grade level (9th, 10th, 11th, 12th) at each school."
   ]
  },
  {
   "cell_type": "code",
   "execution_count": null,
   "metadata": {},
   "outputs": [],
   "source": [
    "#find average reading score for 9th graders by school\n",
    "ninth_reading = school_data_complete[(school_data_complete['grade']=='9th')]\n",
    "ninth_reading_average = ninth_reading.groupby(['school_name']).mean()['reading_score']\n",
    "#ninth_reading_average"
   ]
  },
  {
   "cell_type": "code",
   "execution_count": null,
   "metadata": {},
   "outputs": [],
   "source": [
    "#find average reading score for 10th graders by school\n",
    "tenth_reading = school_data_complete[(school_data_complete['grade']=='10th')]\n",
    "tenth_reading_average = tenth_reading.groupby(['school_name']).mean()['reading_score']\n",
    "#tenth_reading_average"
   ]
  },
  {
   "cell_type": "code",
   "execution_count": null,
   "metadata": {},
   "outputs": [],
   "source": [
    "#find average reading score for 11th graders by school\n",
    "eleventh_reading = school_data_complete[(school_data_complete['grade']=='11th')]\n",
    "eleventh_reading_average = eleventh_reading.groupby(['school_name']).mean()['reading_score']\n",
    "#eleventh_reading_average"
   ]
  },
  {
   "cell_type": "code",
   "execution_count": null,
   "metadata": {},
   "outputs": [],
   "source": [
    "#find average reading score for 12th graders by school\n",
    "twelfth_reading = school_data_complete[(school_data_complete['grade']=='12th')]\n",
    "twelfth_reading_average = twelfth_reading.groupby(['school_name']).mean()['reading_score']\n",
    "#twelfth_reading_average"
   ]
  },
  {
   "cell_type": "code",
   "execution_count": null,
   "metadata": {},
   "outputs": [],
   "source": [
    "#create dataframe for reading averages by grade and school\n",
    "reading_grade_df = pd.DataFrame ({\n",
    "    \"9th\": ninth_reading_average,\n",
    "    \"10th\": tenth_reading_average,\n",
    "    \"11th\": eleventh_reading_average,\n",
    "    \"12th\": twelfth_reading_average\n",
    "    \n",
    "    \n",
    "})\n",
    "reading_grade_df"
   ]
  },
  {
   "cell_type": "markdown",
   "metadata": {},
   "source": [
    "## School performance sorted by School Spending"
   ]
  },
  {
   "cell_type": "code",
   "execution_count": null,
   "metadata": {},
   "outputs": [],
   "source": [
    "bins = [0, 585, 630, 645, 680]\n",
    "labels =['Less than $585', '$585-$630', '$630-$645', '$645-$680']\n"
   ]
  },
  {
   "cell_type": "code",
   "execution_count": null,
   "metadata": {},
   "outputs": [],
   "source": [
    "#school_summary_df.dtypes"
   ]
  },
  {
   "cell_type": "code",
   "execution_count": null,
   "metadata": {},
   "outputs": [],
   "source": [
    "school_summary_df['Budget Summary']=pd.cut(school_summary_df[\"Budget per Student\"], bins, labels=labels, include_lowest=True)"
   ]
  },
  {
   "cell_type": "code",
   "execution_count": null,
   "metadata": {},
   "outputs": [],
   "source": [
    "budget_summary_df=school_summary_df.groupby(\"Budget Summary\").mean()\n"
   ]
  },
  {
   "cell_type": "code",
   "execution_count": null,
   "metadata": {},
   "outputs": [],
   "source": [
    "budget_summary_df = budget_summary_df.drop('Total Students',1)\n",
    "budget_summary_df = budget_summary_df.drop('Total School Budget',1)\n",
    "budget_summary_df = budget_summary_df.drop('Budget per Student',1)"
   ]
  },
  {
   "cell_type": "code",
   "execution_count": null,
   "metadata": {},
   "outputs": [],
   "source": [
    "budget_summary_df"
   ]
  },
  {
   "cell_type": "markdown",
   "metadata": {},
   "source": [
    "## School performance sorted by School Size"
   ]
  },
  {
   "cell_type": "code",
   "execution_count": null,
   "metadata": {
    "scrolled": true
   },
   "outputs": [],
   "source": [
    "bins = [0, 1000, 2000, 5000]\n",
    "labels =['Small (Less than 1000)', 'Medium (1000-2000)', 'Large (2000-5000)']"
   ]
  },
  {
   "cell_type": "code",
   "execution_count": null,
   "metadata": {},
   "outputs": [],
   "source": [
    "school_summary_df['School Size Summary']=pd.cut(school_summary_df[\"Total Students\"], bins, labels=labels, include_lowest=True)"
   ]
  },
  {
   "cell_type": "code",
   "execution_count": null,
   "metadata": {},
   "outputs": [],
   "source": [
    "school_size_df=school_summary_df.groupby('School Size Summary').mean()\n",
    "school_size_df = school_size_df.drop('Total Students',1)\n",
    "school_size_df = school_size_df.drop('Total School Budget',1)\n",
    "school_size_df = school_size_df.drop('Budget per Student',1)\n",
    "school_size_df"
   ]
  },
  {
   "cell_type": "markdown",
   "metadata": {},
   "source": [
    "## School Performance sorted by School Type"
   ]
  },
  {
   "cell_type": "code",
   "execution_count": null,
   "metadata": {},
   "outputs": [],
   "source": [
    "school_type_df=school_summary_df.groupby('School Type').mean()\n",
    "school_type_df = school_type_df.drop('Total Students',1)\n",
    "school_type_df = school_type_df.drop('Total School Budget',1)\n",
    "school_type_df = school_type_df.drop('Budget per Student',1)\n",
    "school_type_df"
   ]
  }
 ],
 "metadata": {
  "anaconda-cloud": {},
  "kernel_info": {
   "name": "python3"
  },
  "kernelspec": {
   "display_name": "Python 3",
   "language": "python",
   "name": "python3"
  },
  "language_info": {
   "codemirror_mode": {
    "name": "ipython",
    "version": 3
   },
   "file_extension": ".py",
   "mimetype": "text/x-python",
   "name": "python",
   "nbconvert_exporter": "python",
   "pygments_lexer": "ipython3",
   "version": "3.8.5"
  },
  "latex_envs": {
   "LaTeX_envs_menu_present": true,
   "autoclose": false,
   "autocomplete": true,
   "bibliofile": "biblio.bib",
   "cite_by": "apalike",
   "current_citInitial": 1,
   "eqLabelWithNumbers": true,
   "eqNumInitial": 1,
   "hotkeys": {
    "equation": "Ctrl-E",
    "itemize": "Ctrl-I"
   },
   "labels_anchors": false,
   "latex_user_defs": false,
   "report_style_numbering": false,
   "user_envs_cfg": false
  },
  "nteract": {
   "version": "0.8.4"
  }
 },
 "nbformat": 4,
 "nbformat_minor": 4
}

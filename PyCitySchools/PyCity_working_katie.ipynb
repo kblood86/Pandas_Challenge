{
 "cells": [
  {
   "cell_type": "markdown",
   "metadata": {},
   "source": [
    "### Note\n",
    "* Instructions have been included for each segment. You do not have to follow them exactly, but they are included to help you think through the steps."
   ]
  },
  {
   "cell_type": "code",
   "execution_count": null,
   "metadata": {},
   "outputs": [],
   "source": [
    "# Dependencies and Setup\n",
    "import pandas as pd"
   ]
  },
  {
   "cell_type": "code",
   "execution_count": null,
   "metadata": {},
   "outputs": [],
   "source": [
    "# File to Load (Remember to Change These)\n",
    "school_data_to_load = \"Resources/schools_complete.csv\"\n",
    "student_data_to_load = \"Resources/students_complete.csv\"\n",
    "\n",
    "# Read School and Student Data File and store into Pandas DataFrames\n",
    "school_data = pd.read_csv(school_data_to_load)\n",
    "student_data = pd.read_csv(student_data_to_load)\n",
    "\n",
    "school_data"
   ]
  },
  {
   "cell_type": "code",
   "execution_count": null,
   "metadata": {},
   "outputs": [],
   "source": [
    "# Combine the data into a single dataset.  \n",
    "school_data_complete = pd.merge(student_data, school_data, how=\"left\", on=[\"school_name\", \"school_name\"])\n",
    "school_data_complete.head(15)"
   ]
  },
  {
   "cell_type": "code",
   "execution_count": null,
   "metadata": {},
   "outputs": [],
   "source": [
    "#look at data types\n",
    "school_data_complete.dtypes"
   ]
  },
  {
   "cell_type": "markdown",
   "metadata": {},
   "source": [
    "## School Summary"
   ]
  },
  {
   "cell_type": "code",
   "execution_count": null,
   "metadata": {},
   "outputs": [],
   "source": [
    "#Ensure no data is missing\n",
    "school_data_complete.count()"
   ]
  },
  {
   "cell_type": "code",
   "execution_count": null,
   "metadata": {},
   "outputs": [],
   "source": [
    "#find total number of schools using merged dataframe\n",
    "total_schools = len(school_data_complete[\"school_name\"].unique())\n",
    "total_schools "
   ]
  },
  {
   "cell_type": "code",
   "execution_count": null,
   "metadata": {},
   "outputs": [],
   "source": [
    "#find total number of students using merged dataframe\n",
    "total_students = school_data_complete[\"Student ID\"].count()\n",
    "total_students"
   ]
  },
  {
   "cell_type": "code",
   "execution_count": null,
   "metadata": {},
   "outputs": [],
   "source": [
    "#find total budget using school dataframe\n",
    "total_budget = school_data[\"budget\"].sum()\n",
    "total_budget"
   ]
  },
  {
   "cell_type": "code",
   "execution_count": null,
   "metadata": {},
   "outputs": [],
   "source": [
    "#find average math score\n",
    "avg_math = school_data_complete[\"math_score\"].mean()\n",
    "avg_math"
   ]
  },
  {
   "cell_type": "code",
   "execution_count": null,
   "metadata": {},
   "outputs": [],
   "source": [
    "#find average reading score\n",
    "avg_reading = school_data_complete[\"reading_score\"].mean()\n",
    "avg_reading "
   ]
  },
  {
   "cell_type": "code",
   "execution_count": null,
   "metadata": {},
   "outputs": [],
   "source": [
    "#Percent passing math\n",
    "count_math = school_data_complete[(school_data_complete[\"math_score\"]>=70)].count()[\"Student ID\"]\n",
    "percent_math = count_math / total_students\n",
    "percent_math"
   ]
  },
  {
   "cell_type": "code",
   "execution_count": null,
   "metadata": {},
   "outputs": [],
   "source": [
    "#Percent passing reading\n",
    "count_reading = school_data_complete[(school_data_complete[\"reading_score\"]>=70)].count()[\"Student ID\"]\n",
    "percent_reading = count_reading/total_students\n",
    "percent_reading"
   ]
  },
  {
   "cell_type": "code",
   "execution_count": null,
   "metadata": {},
   "outputs": [],
   "source": [
    "#Find overall number of students passing math AND reading\n",
    "overall_count = school_data_complete[(school_data_complete[\"reading_score\"]>=70) & (school_data_complete[\"math_score\"]>=70)].count()[\"Student ID\"]\n",
    "overall_percent = overall_count/total_students\n",
    "overall_percent"
   ]
  },
  {
   "cell_type": "markdown",
   "metadata": {},
   "source": [
    "## District Summary\n",
    "\n",
    "* Calculate the total number of schools\n",
    "\n",
    "* Calculate the total number of students\n",
    "\n",
    "* Calculate the total budget\n",
    "\n",
    "* Calculate the average math score \n",
    "\n",
    "* Calculate the average reading score\n",
    "\n",
    "* Calculate the percentage of students with a passing math score (70 or greater)\n",
    "\n",
    "* Calculate the percentage of students with a passing reading score (70 or greater)\n",
    "\n",
    "* Calculate the percentage of students who passed math **and** reading (% Overall Passing)\n",
    "\n",
    "* Create a dataframe to hold the above results\n",
    "\n",
    "* Optional: give the displayed data cleaner formatting"
   ]
  },
  {
   "cell_type": "code",
   "execution_count": null,
   "metadata": {},
   "outputs": [],
   "source": [
    "district_summary_df = pd.DataFrame ({\n",
    "    \"Total Schools\": [total_schools],\n",
    "    \"Total Students\": [total_students],\n",
    "    \"Total Budget\": [total_budget],\n",
    "    \"Average Math Score\": [avg_math],\n",
    "    \"Average Reading Score\": [avg_reading],\n",
    "    \"Percent Passing Math\": [percent_math],\n",
    "    \"Percent Passing Reading\": [percent_reading],\n",
    "    \"Overall Passing Rate\": [overall_percent]\n",
    "    \n",
    "    \n",
    "})\n",
    "district_summary_df"
   ]
  },
  {
   "cell_type": "code",
   "execution_count": null,
   "metadata": {},
   "outputs": [],
   "source": [
    "#clean data\n",
    "district_summary_df[\"Total Students\"] = district_summary_df[\"Total Students\"].map(\"{:,}\".format)\n",
    "district_summary_df[\"Total Budget\"] = district_summary_df[\"Total Budget\"].map(\"${:,.0f}\".format)\n",
    "district_summary_df[\"Percent Passing Math\"] = district_summary_df[\"Percent Passing Math\"].map(\"{:.2%}\".format)\n",
    "district_summary_df[\"Percent Passing Reading\"] = district_summary_df[\"Percent Passing Reading\"].map(\"{:.2%}\".format)\n",
    "district_summary_df[\"Overall Passing Rate\"] = district_summary_df[\"Overall Passing Rate\"].map(\"{:.2%}\".format)\n",
    "\n",
    "district_summary_df"
   ]
  },
  {
   "cell_type": "markdown",
   "metadata": {},
   "source": [
    "* Create an overview table that summarizes key metrics about each school, including:\n",
    "  * School Name\n",
    "  * School Type\n",
    "  * Total Students\n",
    "  * Total School Budget\n",
    "  * Per Student Budget\n",
    "  * Average Math Score\n",
    "  * Average Reading Score\n",
    "  * % Passing Math\n",
    "  * % Passing Reading\n",
    "  * % Overall Passing (The percentage of students that passed math **and** reading.)\n",
    "  \n",
    "* Create a dataframe to hold the above results"
   ]
  },
  {
   "cell_type": "code",
   "execution_count": null,
   "metadata": {},
   "outputs": [],
   "source": [
    "school_types =school_data.set_index(\"school_name\")['type']\n",
    "school_types"
   ]
  },
  {
   "cell_type": "code",
   "execution_count": null,
   "metadata": {},
   "outputs": [],
   "source": [
    "#total students in each school\n",
    "school_student_count = school_data_complete['school_name'].value_counts()\n",
    "school_student_count"
   ]
  },
  {
   "cell_type": "code",
   "execution_count": null,
   "metadata": {},
   "outputs": [],
   "source": [
    "#school budget\n",
    "school_budget_count = school_data_complete.groupby([\"school_name\"]).mean()['budget']\n",
    "school_budget_count"
   ]
  },
  {
   "cell_type": "code",
   "execution_count": null,
   "metadata": {},
   "outputs": [],
   "source": [
    "#budget per student\n",
    "school_per_student_budget = school_budget_count / school_student_count\n",
    "school_per_student_budget"
   ]
  },
  {
   "cell_type": "code",
   "execution_count": null,
   "metadata": {},
   "outputs": [],
   "source": [
    "#Average math score\n",
    "school_avg_math = school_data_complete.groupby('school_name').mean()['math_score']\n",
    "school_avg_math"
   ]
  },
  {
   "cell_type": "code",
   "execution_count": null,
   "metadata": {},
   "outputs": [],
   "source": [
    "#Average Reading score per school\n",
    "school_avg_reading = school_data_complete.groupby('school_name').mean()['reading_score']\n",
    "school_avg_reading"
   ]
  },
  {
   "cell_type": "code",
   "execution_count": null,
   "metadata": {},
   "outputs": [],
   "source": [
    "#percent of students passing math per school\n",
    "school_passing_math = school_data_complete[(school_data_complete['math_score']>=70)]\n",
    "school_passing_math_count = school_passing_math.groupby(['school_name']).count()['Student ID']\n",
    "school_passing_math_percent = (school_passing_math_count / school_student_count)\n",
    "school_passing_math_percent"
   ]
  },
  {
   "cell_type": "code",
   "execution_count": null,
   "metadata": {},
   "outputs": [],
   "source": [
    "#percent of students passing reading per school\n",
    "school_passing_reading = school_data_complete[(school_data_complete['reading_score']>=70)]\n",
    "school_passing_reading_count = school_passing_reading.groupby(['school_name']).count()['Student ID']\n",
    "school_passing_reading_percent = (school_passing_reading_count / school_student_count)\n",
    "school_passing_reading_percent"
   ]
  },
  {
   "cell_type": "code",
   "execution_count": null,
   "metadata": {},
   "outputs": [],
   "source": [
    "#percent of students passing math per school\n",
    "school_passing_overall = school_data_complete[(school_data_complete['math_score']>=70) & (school_data_complete['reading_score']>=70)]\n",
    "school_passing_overall_count = school_passing_overall.groupby(['school_name']).count()['Student ID']\n",
    "school_passing_overall_percent = (school_passing_overall_count / school_student_count)\n",
    "school_passing_overall_percent"
   ]
  },
  {
   "cell_type": "code",
   "execution_count": null,
   "metadata": {},
   "outputs": [],
   "source": [
    "school_summary_df = pd.DataFrame ({\n",
    "    \"School Type\": school_types,\n",
    "    \"Total Students\": school_student_count,\n",
    "    \"Total School Budget\": school_budget_count,\n",
    "    \"Budget per Student\": school_per_student_budget,\n",
    "    \"Average Math Score\": school_avg_math,\n",
    "    \"Average Reading Score\": school_avg_reading,\n",
    "    \"Percent Passing Math\": school_passing_math_percent,\n",
    "    \"Percent Passing Reading\": school_passing_reading_percent,\n",
    "    \"Overall Percent Passing\": school_passing_overall_percent\n",
    "    \n",
    "    \n",
    "})\n",
    "school_summary_df"
   ]
  },
  {
   "cell_type": "code",
   "execution_count": null,
   "metadata": {},
   "outputs": [],
   "source": [
    "#clean data\n",
    "school_summary_df[\"Total Students\"] = school_summary_df_df[\"Total Students\"].map(\"{:,}\".format)\n",
    "school_summary_df[\"Total School Budget\"] = school_summary_df[\"Total Budget\"].map(\"${:,.0f}\".format)\n",
    "school_summary_df[\"Budget per Student\"] = school_summary_df[\"Budget per Student\"].map(\"${:,.0f}\".format)\n",
    "school_summary_df[\"Percent Passing Math\"] = school_summary_df[\"Percent Passing Math\"].map(\"{:.2%}\".format)\n",
    "school_summary_df[\"Percent Passing Reading\"] = school_summary_df[\"Percent Passing Reading\"].map(\"{:.2%}\".format)\n",
    "school_summary_df[\"Overall Passing Rate\"] = school_summary_df[\"Overall Passing Rate\"].map(\"{:.2%}\".format)\n",
    "\n",
    "school_summary_df"
   ]
  },
  {
   "cell_type": "markdown",
   "metadata": {},
   "source": [
    "## Top Performing Schools (By % Overall Passing)"
   ]
  },
  {
   "cell_type": "markdown",
   "metadata": {},
   "source": [
    "* Sort and display the top five performing schools by % overall passing."
   ]
  },
  {
   "cell_type": "code",
   "execution_count": null,
   "metadata": {
    "scrolled": true
   },
   "outputs": [],
   "source": [
    "sorted_summary = school_summary_df.sort_values('Overall Percent Passing')\n",
    "sorted_summary.head(5)\n"
   ]
  },
  {
   "cell_type": "markdown",
   "metadata": {},
   "source": [
    "## Bottom Performing Schools (By % Overall Passing)"
   ]
  },
  {
   "cell_type": "markdown",
   "metadata": {},
   "source": [
    "* Sort and display the five worst-performing schools by % overall passing."
   ]
  },
  {
   "cell_type": "code",
   "execution_count": null,
   "metadata": {},
   "outputs": [],
   "source": [
    "sorted_summary.tail(5)"
   ]
  },
  {
   "cell_type": "markdown",
   "metadata": {},
   "source": [
    "## Math Scores by Grade"
   ]
  },
  {
   "cell_type": "markdown",
   "metadata": {},
   "source": [
    "* Create a table that lists the average Reading Score for students of each grade level (9th, 10th, 11th, 12th) at each school.\n",
    "\n",
    "  * Create a pandas series for each grade. Hint: use a conditional statement.\n",
    "  \n",
    "  * Group each series by school\n",
    "  \n",
    "  * Combine the series into a dataframe\n",
    "  \n",
    "  * Optional: give the displayed data cleaner formatting"
   ]
  },
  {
   "cell_type": "code",
   "execution_count": null,
   "metadata": {},
   "outputs": [],
   "source": []
  },
  {
   "cell_type": "markdown",
   "metadata": {},
   "source": [
    "## Reading Score by Grade "
   ]
  },
  {
   "cell_type": "markdown",
   "metadata": {},
   "source": [
    "* Perform the same operations as above for reading scores"
   ]
  },
  {
   "cell_type": "code",
   "execution_count": null,
   "metadata": {},
   "outputs": [],
   "source": []
  },
  {
   "cell_type": "markdown",
   "metadata": {},
   "source": [
    "## Scores by School Spending"
   ]
  },
  {
   "cell_type": "markdown",
   "metadata": {},
   "source": [
    "* Create a table that breaks down school performances based on average Spending Ranges (Per Student). Use 4 reasonable bins to group school spending. Include in the table each of the following:\n",
    "  * Average Math Score\n",
    "  * Average Reading Score\n",
    "  * % Passing Math\n",
    "  * % Passing Reading\n",
    "  * Overall Passing Rate (Average of the above two)"
   ]
  },
  {
   "cell_type": "code",
   "execution_count": null,
   "metadata": {},
   "outputs": [],
   "source": []
  },
  {
   "cell_type": "markdown",
   "metadata": {},
   "source": [
    "## Scores by School Size"
   ]
  },
  {
   "cell_type": "markdown",
   "metadata": {},
   "source": [
    "* Perform the same operations as above, based on school size."
   ]
  },
  {
   "cell_type": "code",
   "execution_count": null,
   "metadata": {
    "scrolled": true
   },
   "outputs": [],
   "source": []
  },
  {
   "cell_type": "markdown",
   "metadata": {},
   "source": [
    "## Scores by School Type"
   ]
  },
  {
   "cell_type": "markdown",
   "metadata": {},
   "source": [
    "* Perform the same operations as above, based on school type"
   ]
  },
  {
   "cell_type": "code",
   "execution_count": null,
   "metadata": {},
   "outputs": [],
   "source": []
  },
  {
   "cell_type": "code",
   "execution_count": null,
   "metadata": {},
   "outputs": [],
   "source": []
  }
 ],
 "metadata": {
  "anaconda-cloud": {},
  "kernel_info": {
   "name": "python3"
  },
  "kernelspec": {
   "display_name": "Python 3",
   "language": "python",
   "name": "python3"
  },
  "language_info": {
   "codemirror_mode": {
    "name": "ipython",
    "version": 3
   },
   "file_extension": ".py",
   "mimetype": "text/x-python",
   "name": "python",
   "nbconvert_exporter": "python",
   "pygments_lexer": "ipython3",
   "version": "3.8.5"
  },
  "latex_envs": {
   "LaTeX_envs_menu_present": true,
   "autoclose": false,
   "autocomplete": true,
   "bibliofile": "biblio.bib",
   "cite_by": "apalike",
   "current_citInitial": 1,
   "eqLabelWithNumbers": true,
   "eqNumInitial": 1,
   "hotkeys": {
    "equation": "Ctrl-E",
    "itemize": "Ctrl-I"
   },
   "labels_anchors": false,
   "latex_user_defs": false,
   "report_style_numbering": false,
   "user_envs_cfg": false
  },
  "nteract": {
   "version": "0.8.4"
  }
 },
 "nbformat": 4,
 "nbformat_minor": 4
}
